{
 "cells": [
  {
   "cell_type": "markdown",
   "metadata": {},
   "source": [
    "### **Overview**\n",
    "\n",
    "This repository contains datasets related to global population statistics, focusing on the population of various countries and the world over a range of years. The primary data set is **Population_Data.csv**, from Data World Bank which the United Nations uses to collect population data.\n",
    "\n",
    "#### **Key Features:**\n",
    "- **Countries and Regions:** The data includes population statistics for various countries, as well as a row representing the global population.\n",
    "- **Time Span:** The dataset spans multiple years, providing a historical perspective on population growth and trends.\n",
    "- **Columns:** The dataset contains information such as:\n",
    "  - **Country Name:** The name of the country or region.\n",
    "  - **Population Data (by Year):** Population data for each country across multiple years.\n",
    "  - **Averages:** Calculated averages of the population over the years for each country (excluding missing values).\n",
    "\n",
    "#### **Data Cleaning and Processing:**\n",
    "- The dataset has been cleaned by removing irrelevant columns, such as \"Country Code,\" \"Indicator Name,\" and \"Indicator Code.\"\n",
    "- Any unnamed columns were also removed to ensure clarity and consistency.\n",
    "- Averages of population across years were computed and added as a new column.\n",
    "- The dataset has been saved in a modified version as `Population_Data_Manipulated.csv`.\n",
    "\n",
    "#### **Visualization:**\n",
    "- A plot of the **World Population Over Time** has been created to visualize global population trends.\n",
    "\n",
    "This repository serves as a useful resource for analyzing and visualizing population growth trends across the globe, with a focus on time-based analysis."
   ]
  },
  {
   "cell_type": "markdown",
   "metadata": {},
   "source": [
    "### **Data Preparation and Visualization**\n",
    "\n",
    "1. **Importing Libraries**  \n",
    "   First, we will import the necessary libraries: NumPy, Pandas, and Matplotlib.  \n",
    "   > `NumPy` will help us with numerical operations, `Pandas` will be used for data manipulation, and `Matplotlib` will be used for plotting graphs."
   ]
  },
  {
   "cell_type": "code",
   "execution_count": null,
   "metadata": {},
   "outputs": [],
   "source": [
    "import numpy as np\n",
    "import pandas as pd\n",
    "import matplotlib as plt"
   ]
  },
  {
   "cell_type": "markdown",
   "metadata": {},
   "source": [
    "2. **Read the Dataset**  \n",
    "   Next, we will read the `Population_Data.csv` file using `Pandas`.  \n",
    "   > Make sure that the file is in the correct directory, or provide the full path to the file. We will load the dataset into a DataFrame called `df`."
   ]
  },
  {
   "cell_type": "code",
   "execution_count": 13,
   "metadata": {},
   "outputs": [
    {
     "name": "stdout",
     "output_type": "stream",
     "text": [
      "<bound method NDFrame.head of                     Country Name Country Code     Indicator Name  \\\n",
      "0                          Aruba          ABW  Population, total   \n",
      "1    Africa Eastern and Southern          AFE  Population, total   \n",
      "2                    Afghanistan          AFG  Population, total   \n",
      "3     Africa Western and Central          AFW  Population, total   \n",
      "4                         Angola          AGO  Population, total   \n",
      "..                           ...          ...                ...   \n",
      "261                       Kosovo          XKX  Population, total   \n",
      "262                  Yemen, Rep.          YEM  Population, total   \n",
      "263                 South Africa          ZAF  Population, total   \n",
      "264                       Zambia          ZMB  Population, total   \n",
      "265                     Zimbabwe          ZWE  Population, total   \n",
      "\n",
      "    Indicator Code      1960      1961      1962      1963      1964  \\\n",
      "0      SP.POP.TOTL     54608     55811     56682     57475     58178   \n",
      "1      SP.POP.TOTL 130692579 134169237 137835590 141630546 145605995   \n",
      "2      SP.POP.TOTL   8622466   8790140   8969047   9157465   9355514   \n",
      "3      SP.POP.TOTL  97256290  99314028 101445032 103667517 105959979   \n",
      "4      SP.POP.TOTL   5357195   5441333   5521400   5599827   5673199   \n",
      "..             ...       ...       ...       ...       ...       ...   \n",
      "261    SP.POP.TOTL    990150   1014211   1038618   1063175   1087700   \n",
      "262    SP.POP.TOTL   5542459   5646668   5753386   5860197   5973803   \n",
      "263    SP.POP.TOTL  16520441  16989464  17503133  18042215  18603097   \n",
      "264    SP.POP.TOTL   3119430   3219451   3323427   3431381   3542764   \n",
      "265    SP.POP.TOTL   3806310   3925952   4049778   4177931   4310332   \n",
      "\n",
      "         1965  ...      2015      2016      2017      2018      2019  \\\n",
      "0       58782  ...    104257    104874    105439    105962    106442   \n",
      "1   149742351  ... 600008424 616377605 632746570 649757148 667242986   \n",
      "2     9565147  ...  33753499  34636207  35643418  36686784  37769499   \n",
      "3   108336203  ... 408690375 419778384 431138704 442646825 454306063   \n",
      "4     5736582  ...  28127721  29154746  30208628  31273533  32353588   \n",
      "..        ...  ...       ...       ...       ...       ...       ...   \n",
      "261   1111812  ...   1788196   1777557   1791003   1797085   1788878   \n",
      "262   6097298  ...  28516545  29274002  30034389  30790513  31546691   \n",
      "263  19187194  ...  55876504  56422274  56641209  57339635  58087055   \n",
      "264   3658024  ...  16248230  16767761  17298054  17835893  18380477   \n",
      "265   4447149  ...  14154937  14452704  14751101  15052184  15354608   \n",
      "\n",
      "         2020      2021      2022      2023  Unnamed: 68  \n",
      "0      106585    106537    106445    106277          NaN  \n",
      "1   685112979 702977106 720859132 739108306          NaN  \n",
      "2    38972230  40099462  41128771  42239854          NaN  \n",
      "3   466189102 478185907 490330870 502789511          NaN  \n",
      "4    33428486  34503774  35588987  36684202          NaN  \n",
      "..        ...       ...       ...       ...          ...  \n",
      "261   1790133   1786038   1768086   1756374          NaN  \n",
      "262  32284046  32981641  33696614  34449825          NaN  \n",
      "263  58801927  59392255  59893885  60414495          NaN  \n",
      "264  18927715  19473125  20017675  20569737          NaN  \n",
      "265  15669666  15993524  16320537  16665409          NaN  \n",
      "\n",
      "[266 rows x 69 columns]>\n"
     ]
    }
   ],
   "source": [
    "df = pd.read_csv('Population_Data.csv')\n",
    "print(df.head)"
   ]
  },
  {
   "cell_type": "markdown",
   "metadata": {},
   "source": [
    "3. **Clean the Data**  \n",
    "   To clean the dataset, we will remove unneeded columns and unnamed columns.  \n",
    "   > We will drop the columns `Country Code`, `Indicator Name`, and `Indicator Code`, as they are not needed for our analysis. Additionally, we will remove any unnamed columns that may be present."
   ]
  },
  {
   "cell_type": "code",
   "execution_count": 14,
   "metadata": {},
   "outputs": [
    {
     "name": "stdout",
     "output_type": "stream",
     "text": [
      "<bound method NDFrame.head of                     Country Name      1960      1961      1962      1963  \\\n",
      "0                          Aruba     54608     55811     56682     57475   \n",
      "1    Africa Eastern and Southern 130692579 134169237 137835590 141630546   \n",
      "2                    Afghanistan   8622466   8790140   8969047   9157465   \n",
      "3     Africa Western and Central  97256290  99314028 101445032 103667517   \n",
      "4                         Angola   5357195   5441333   5521400   5599827   \n",
      "..                           ...       ...       ...       ...       ...   \n",
      "261                       Kosovo    990150   1014211   1038618   1063175   \n",
      "262                  Yemen, Rep.   5542459   5646668   5753386   5860197   \n",
      "263                 South Africa  16520441  16989464  17503133  18042215   \n",
      "264                       Zambia   3119430   3219451   3323427   3431381   \n",
      "265                     Zimbabwe   3806310   3925952   4049778   4177931   \n",
      "\n",
      "         1964      1965      1966      1967      1968  ...      2014  \\\n",
      "0       58178     58782     59291     59522     59471  ...    103594   \n",
      "1   145605995 149742351 153955516 158313235 162875171  ... 583651101   \n",
      "2     9355514   9565147   9783147  10010030  10247780  ...  32716210   \n",
      "3   105959979 108336203 110798486 113319950 115921723  ... 397855507   \n",
      "4     5673199   5736582   5787044   5827503   5868203  ...  27128337   \n",
      "..        ...       ...       ...       ...       ...  ...       ...   \n",
      "261   1087700   1111812   1135522   1159611   1184645  ...   1812771   \n",
      "262   5973803   6097298   6228430   6368014   6515904  ...  27753304   \n",
      "263  18603097  19187194  19789771  20410677  21050540  ...  54729551   \n",
      "264   3542764   3658024   3777680   3901288   4029173  ...  15737793   \n",
      "265   4310332   4447149   4588529   4734694   4886347  ...  13855753   \n",
      "\n",
      "         2015      2016      2017      2018      2019      2020      2021  \\\n",
      "0      104257    104874    105439    105962    106442    106585    106537   \n",
      "1   600008424 616377605 632746570 649757148 667242986 685112979 702977106   \n",
      "2    33753499  34636207  35643418  36686784  37769499  38972230  40099462   \n",
      "3   408690375 419778384 431138704 442646825 454306063 466189102 478185907   \n",
      "4    28127721  29154746  30208628  31273533  32353588  33428486  34503774   \n",
      "..        ...       ...       ...       ...       ...       ...       ...   \n",
      "261   1788196   1777557   1791003   1797085   1788878   1790133   1786038   \n",
      "262  28516545  29274002  30034389  30790513  31546691  32284046  32981641   \n",
      "263  55876504  56422274  56641209  57339635  58087055  58801927  59392255   \n",
      "264  16248230  16767761  17298054  17835893  18380477  18927715  19473125   \n",
      "265  14154937  14452704  14751101  15052184  15354608  15669666  15993524   \n",
      "\n",
      "         2022      2023  \n",
      "0      106445    106277  \n",
      "1   720859132 739108306  \n",
      "2    41128771  42239854  \n",
      "3   490330870 502789511  \n",
      "4    35588987  36684202  \n",
      "..        ...       ...  \n",
      "261   1768086   1756374  \n",
      "262  33696614  34449825  \n",
      "263  59893885  60414495  \n",
      "264  20017675  20569737  \n",
      "265  16320537  16665409  \n",
      "\n",
      "[266 rows x 65 columns]>\n"
     ]
    }
   ],
   "source": [
    "df = df.drop([\"Country Code\", 'Indicator Name', 'Indicator Code'], axis=1)\n",
    "df = df.loc[:, ~df.columns.str.contains('^Unnamed')]\n",
    "print(df.head)"
   ]
  },
  {
   "cell_type": "markdown",
   "metadata": {},
   "source": [
    "4. **Formatting for Float Numbers**  \n",
    "   To avoid displaying numbers in scientific notation, we will set the display format for floats to show without scientific notation.  \n",
    "   > This helps with readability when working with large numbers, such as populations."
   ]
  },
  {
   "cell_type": "code",
   "execution_count": null,
   "metadata": {},
   "outputs": [],
   "source": [
    "pd.options.display.float_format = '{:.0f}'.format"
   ]
  },
  {
   "cell_type": "markdown",
   "metadata": {},
   "source": [
    "5. **Calculate Row-Wise Averages**  \n",
    "   We will now calculate the average population for each country across the years.  \n",
    "   > The new column `Averages` will hold the mean value for each row, skipping any `NaN` values."
   ]
  },
  {
   "cell_type": "code",
   "execution_count": 16,
   "metadata": {},
   "outputs": [],
   "source": [
    "df[\"Averages\"] = df.iloc[:, 1:].mean(axis=1)"
   ]
  },
  {
   "cell_type": "markdown",
   "metadata": {},
   "source": [
    "6. **Save the Modified Data**  \n",
    "   We will save the cleaned data to a new CSV file called `Population_Data_Manipulated.csv`.  \n",
    "   > The `index=False` parameter ensures that the index column is not written to the file."
   ]
  },
  {
   "cell_type": "code",
   "execution_count": 17,
   "metadata": {},
   "outputs": [],
   "source": [
    "df.to_csv(\"Population_Data_Manipulated.csv\", index=False)"
   ]
  },
  {
   "cell_type": "markdown",
   "metadata": {},
   "source": [
    "7. **Extract World Population Data**  \n",
    "   Now, let's isolate the world population data from the dataset.  \n",
    "   > We will filter the rows where the `Country Name` is 'World' and transpose the data to get the years as rows and the population as a column."
   ]
  },
  {
   "cell_type": "code",
   "execution_count": 18,
   "metadata": {},
   "outputs": [],
   "source": [
    "world_population = df[df['Country Name'] == 'World'].iloc[:, 1:-1].T\n",
    "world_population.columns = ['World Population']"
   ]
  },
  {
   "cell_type": "markdown",
   "metadata": {},
   "source": [
    "8. **Ensure Years Are Integers**  \n",
    "   It's important to make sure that the years are treated as integers. This step ensures that they are displayed correctly in the plot.\n"
   ]
  },
  {
   "cell_type": "code",
   "execution_count": 19,
   "metadata": {},
   "outputs": [],
   "source": [
    "world_population.index = world_population.index.astype(int)"
   ]
  },
  {
   "cell_type": "markdown",
   "metadata": {},
   "source": [
    "9. **Plot the World Population Over Time**  \n",
    "   Finally, we will plot the world population over time using `Matplotlib`.  \n",
    "   > This will display the population growth over the years, with markers for each data point."
   ]
  },
  {
   "cell_type": "code",
   "execution_count": 21,
   "metadata": {},
   "outputs": [
    {
     "data": {
      "text/plain": [
       "<Axes: title={'center': 'World Population Over Time'}, xlabel='Year', ylabel='Population'>"
      ]
     },
     "execution_count": 21,
     "metadata": {},
     "output_type": "execute_result"
    },
    {
     "data": {
      "image/png": "[encoded data removed]",
      "text/plain": [
       "<Figure size 1000x600 with 1 Axes>"
      ]
     },
     "metadata": {},
     "output_type": "display_data"
    }
   ],
   "source": [
    "world_population.plot(\n",
    "    figsize=(10, 6),\n",
    "    marker='o',\n",
    "    linestyle='-',\n",
    "    color='b',\n",
    "    title='World Population Over Time',\n",
    "    xlabel='Year',\n",
    "    ylabel='Population',\n",
    "    grid=True,\n",
    "    legend=False\n",
    ")"
   ]
  }
 ],
 "metadata": {
  "kernelspec": {
   "display_name": "Python 3",
   "language": "python",
   "name": "python3"
  },
  "language_info": {
   "codemirror_mode": {
    "name": "ipython",
    "version": 3
   },
   "file_extension": ".py",
   "mimetype": "text/x-python",
   "name": "python",
   "nbconvert_exporter": "python",
   "pygments_lexer": "ipython3",
   "version": "3.10.11"
  }
 },
 "nbformat": 4,
 "nbformat_minor": 2
}
